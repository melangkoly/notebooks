{
 "cells": [
  {
   "cell_type": "code",
   "execution_count": 6,
   "id": "bad08808",
   "metadata": {},
   "outputs": [],
   "source": [
    "# Selenium : 웹 페이지가 실제 브라우저에서 오류 없이 제대로 작동하는가 테스트 하는 도구\n",
    "# 1. Module Install : pip install selenium\n",
    "# 2. 브라우저 드라이버\n",
    "# 브라우저 버전 확인 \n",
    "\n",
    "from selenium import webdriver\n",
    "\n",
    "# 드라이버 로드\n",
    "driver = webdriver.Chrome(\"C:/Users/이준서/Downloads/chromedriver_win32/chromedriver.exe\")\n",
    "\n",
    "# 접속\n",
    "driver.get(\"https://www.naver.com\")\n",
    "# 페이지 로드 전에 잠시 대기\n",
    "driver.implicitly_wait(3)\n",
    "\n",
    "# #account > a -> 클릭\n",
    "btn_login = driver.find_element_by_css_selector(\"#account > a\") # 요소 찾고\n",
    "btn_login.click() # 클릭 이벤트 발생\n",
    "\n",
    "# 아이디 입력창 xpath: //*[@id=\"id\"]\n",
    "input_id = driver.find_element_by_xpath(\"//*[@id=\\\"id\\\"]\") # 아이디 입력 찾고\n",
    "# 아이디 입력 이벤트 발생\n",
    "input_id.send_keys(\"bitbitman\")\n",
    "# 비밀번호 입력창 xpath: //*[@id=:\"pw\"]\n",
    "input_password = driver.find_element_by_xpath(\"//*[@id=\\\"pw\\\"]\")\n",
    "# 비밀번호 입력 이벤트 발생\n",
    "input_password.send_keys(\"password\")\n",
    "# 로그인 버튼 xpath: //*[@id=\"log.login\"]\n",
    "btn_submit = driver.find_element_by_xpath(\"//*[@id=\\\"log.login\\\"]\")\n",
    "#btn_submit.click()"
   ]
  },
  {
   "cell_type": "code",
   "execution_count": null,
   "id": "753c242d",
   "metadata": {},
   "outputs": [],
   "source": [
    "# 1. naver 접속\n",
    "# 2. 검색어 입력\n",
    "# 3. 검색 버튼 클릭\n",
    "# 4. 검색 결과 소스 HTML 확인\n",
    "driver = webdriver.Chrome(\"C:/Users/이준서/Downloads/chromedriver_win32/chromedriver.exe\")\n",
    "driver.get(\"https://www.naver.com\")\n",
    "\n",
    "# 검색어 창 selector : #query\n",
    "# 검색 버튼 selector : #search_btn\n",
    "input_search = driver.find_element_by_css_selector(\"#query\")\n",
    "input_search.send_keys(\"무야호\")\n",
    "btn_search = driver.find_element_by_css_selector(\"#search_btn\")\n",
    "btn_search.click()\n",
    "\n",
    "# 결과 페이지 소스 확인\n",
    "result = driver.page_source\n",
    "print(result) # 크롤링 대상 페이지 소스\n",
    "# BeautifulSoup 로 분석, 스크래핑 "
   ]
  }
 ],
 "metadata": {
  "kernelspec": {
   "display_name": "Python 3",
   "language": "python",
   "name": "python3"
  },
  "language_info": {
   "codemirror_mode": {
    "name": "ipython",
    "version": 3
   },
   "file_extension": ".py",
   "mimetype": "text/x-python",
   "name": "python",
   "nbconvert_exporter": "python",
   "pygments_lexer": "ipython3",
   "version": "3.9.5"
  }
 },
 "nbformat": 4,
 "nbformat_minor": 5
}
