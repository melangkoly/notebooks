{
 "cells": [
  {
   "cell_type": "code",
   "execution_count": 1,
   "id": "2935407f",
   "metadata": {},
   "outputs": [],
   "source": [
    "# 파이썬 정규 표현식\n",
    "\n",
    "# moduel import\n",
    "import re"
   ]
  },
  {
   "cell_type": "code",
   "execution_count": 7,
   "id": "618d9d25",
   "metadata": {},
   "outputs": [
    {
     "name": "stdout",
     "output_type": "stream",
     "text": [
      "None\n",
      "<re.Match object; span=(0, 4), match='Life'>\n",
      "<re.Match object; span=(0, 4), match='Life'>\n",
      "Life\n"
     ]
    }
   ],
   "source": [
    "# 사용방법\n",
    "# 1. 패턴 컴파일 후에 사용\n",
    "# 2. 패턴 객체가 가진 메소드 이용 작업 수행\n",
    "source = \"Life is too short, you need Python\"\n",
    "\n",
    "# 방법 1. 패턴 컴파일 후에 match\n",
    "p = re.compile(r\"P[a-z]+\") # P로 시작, 소문자 1개 이상인 패턴 매칭\n",
    "print(p.match(source))\n",
    "\n",
    "p = re.compile(r\"L[a-z]+\") # L로 시작, 소문자 1개 이상인 패턴 매칭\n",
    "print(p.match(source))\n",
    "\n",
    "# 방법 2. 축약형 : 컴파일 없이 1회성 즉시 매칭\n",
    "print(re.match(r\"[A-Za-z]+\", source)) # 대문자 or 소문자 1문자 이상 패턴 매칭\n",
    "\n",
    "# 매칭된 내용을 추출 -> group() 메소드\n",
    "print(re.match(r\"[A-Za-z]+\", source).group())"
   ]
  },
  {
   "cell_type": "code",
   "execution_count": 12,
   "id": "8c9a5c7f",
   "metadata": {},
   "outputs": [
    {
     "name": "stdout",
     "output_type": "stream",
     "text": [
      "<re.Match object; span=(0, 5), match='Hello'>\n",
      "None\n",
      "<re.Match object; span=(6, 12), match='Python'>\n",
      "None\n",
      "<re.Match object; span=(6, 12), match='Python'>\n"
     ]
    }
   ],
   "source": [
    "# 특정 문자열이 포함되어있는지 확인\n",
    "source = \"Hello Python\"\n",
    "print(re.match(\"Hello\", source))\n",
    "print(re.match(\"Python\", source))\n",
    "# match 메서드는 처음부터 일치해야 함\n",
    "print(re.search(\"Python\", source))\n",
    "# search 메서드는 전체를 대상으로 매칭\n",
    "print(re.search(\"python\", source))\n",
    "# 기본적으로 대소문자를 구분\n",
    "# 대소문자 구분 없이 매칭 시도 -> re.IGNORECASE or re.I 옵션 사용\n",
    "print(re.search(\"python\", source, re.IGNORECASE)) # 대소문자 구분 없이 검색\n"
   ]
  },
  {
   "cell_type": "code",
   "execution_count": 21,
   "id": "9e79ffe5",
   "metadata": {},
   "outputs": [
    {
     "name": "stdout",
     "output_type": "stream",
     "text": [
      "<re.Match object; span=(0, 5), match='Paint'> Paint\n",
      "<re.Match object; span=(27, 30), match='Per'> Per\n",
      "<re.Match object; span=(38, 44), match='Python'> Python\n",
      "<re.Match object; span=(45, 49), match='P123'> P123\n"
     ]
    }
   ],
   "source": [
    "# findall and finditer\n",
    "source = \"Paint C JavaScript 123 456 Per I Java Python P123 Ruby\"\n",
    "# p로 시작되는 문자열을 검색 출력\n",
    "# findall : 매칭된 모든 문자열을 list로 리턴\n",
    "#item = re.findall(r\"\\bp[A-Za-z0-9]+\", source, re.I) # \\b 는 경계\n",
    "#item = re.findall(r\"\\bp\\w+\", source, re.I) # \\w == [A-Za-z0-9]\n",
    "#print(item)\n",
    "# finditer : 매칭 영역을 iterator로 반환 \n",
    "iter = re.finditer(r\"\\bp\\w+\", source, re.I)\n",
    "for item in iter:\n",
    "    print(item, item.group())"
   ]
  },
  {
   "cell_type": "code",
   "execution_count": 29,
   "id": "a5df727a",
   "metadata": {},
   "outputs": [
    {
     "name": "stdout",
     "output_type": "stream",
     "text": [
      "tel: <re.Match object; span=(1, 14), match='010-1234-5678'> 010-1234-5678\n",
      "tel: <re.Match object; span=(19, 32), match='032-0987-6543'> 032-0987-6543\n",
      "tel: <re.Match object; span=(37, 49), match='02-6224-3557'> 02-6224-3557\n",
      "tel: <re.Match object; span=(1, 14), match='010-1234-5678'> {'area': '010', 'exchange': '1234', 'number': '5678'}\n",
      "tel: <re.Match object; span=(19, 32), match='032-0987-6543'> {'area': '032', 'exchange': '0987', 'number': '6543'}\n",
      "tel: <re.Match object; span=(37, 49), match='02-6224-3557'> {'area': '02', 'exchange': '6224', 'number': '3557'}\n"
     ]
    }
   ],
   "source": [
    "# 예제\n",
    "# 전화번호\n",
    "source = \"\"\"\n",
    "010-1234-5678 홍길동\n",
    "032-0987-6543 고길동\n",
    "02-6224-3557 이찬우\n",
    "\"\"\"\n",
    "\n",
    "pattern = re.compile(r\"\\d{2,3}-\\d{3,4}-\\d{4}\")\n",
    "iter = pattern.finditer(source)\n",
    "\n",
    "for tel in iter:\n",
    "    print(\"tel:\", tel, tel.group())\n",
    "    \n",
    "# 패턴 작성시 (?P<이름>) 형식을 이용하면 매칭 결과에 이름을 부여할 수 있다\n",
    "# 이름이 부여된 매칭 결과는 groupdict() 로 확인\n",
    "\n",
    "pattern = re.compile(r\"(?P<area>\\d{2,3})-(?P<exchange>\\d{3,4})-(?P<number>\\d{4})\")\n",
    "iter = pattern.finditer(source)\n",
    "for tel in iter:\n",
    "    print(\"tel:\", tel,\n",
    "          tel.groupdict())\n",
    "                     "
   ]
  },
  {
   "cell_type": "code",
   "execution_count": 36,
   "id": "59b99fe4",
   "metadata": {},
   "outputs": [
    {
     "name": "stdout",
     "output_type": "stream",
     "text": [
      "hong@hwalbin.org\n",
      "jang@thieves.net\n",
      "gildong@dooly.com\n"
     ]
    }
   ],
   "source": [
    "# 예제 2\n",
    "# 이메일 추출하기\n",
    "source = \"\"\"\n",
    "홍길동 hong@hwalbin.org\n",
    "장길산 jang@thieves.net\n",
    "고길동 gildong@dooly.com\n",
    "\"\"\"\n",
    "\n",
    "pattern = re.compile(r\"\\w+@\\w+\\.[a-z]+\")\n",
    "iter = pattern.finditer(source)\n",
    "\n",
    "for email in iter:\n",
    "    print(email.group())"
   ]
  },
  {
   "cell_type": "code",
   "execution_count": 38,
   "id": "f827ab45",
   "metadata": {},
   "outputs": [
    {
     "name": "stdout",
     "output_type": "stream",
     "text": [
      "['머한민국', '홍길동', '中國', '장길산']\n"
     ]
    }
   ],
   "source": [
    "# 한국어 패턴 설정\n",
    "source = \"English 머한민국 ニッポン 홍길동 中國　장길산\"\n",
    "p = re.compile(r\"[ㄱ-힣]+\") # 유니코드의 범위\n",
    "\n",
    "print(p.findall(source))"
   ]
  },
  {
   "cell_type": "code",
   "execution_count": 40,
   "id": "8528807a",
   "metadata": {},
   "outputs": [
    {
     "name": "stdout",
     "output_type": "stream",
     "text": [
      "Pattern Split : ['사과', ' 오렌지', '바나나', ' 토마토', '수박']\n",
      "Pattenr Sub: 사과- 오렌지-바나나- 토마토-수박\n"
     ]
    }
   ],
   "source": [
    "# split : 단순 문자열이 아닌 패턴을 이용해서 문자열을 분할\n",
    "source = \"사과, 오렌지:바나나, 토마토|수박\"\n",
    "pattern = re.compile(r\"[:,|]\")\n",
    "\n",
    "print(\"Pattern Split :\", re.split(pattern, source))\n",
    "\n",
    "# sub : 단순문자열이 아닌 패턴 매칭을 이용한 변경\n",
    "print(\"Pattenr Sub:\", re.sub(pattern, \"-\", source)) # 패턴 매칭후 변경 -> - 변경"
   ]
  }
 ],
 "metadata": {
  "kernelspec": {
   "display_name": "Python 3",
   "language": "python",
   "name": "python3"
  },
  "language_info": {
   "codemirror_mode": {
    "name": "ipython",
    "version": 3
   },
   "file_extension": ".py",
   "mimetype": "text/x-python",
   "name": "python",
   "nbconvert_exporter": "python",
   "pygments_lexer": "ipython3",
   "version": "3.9.5"
  }
 },
 "nbformat": 4,
 "nbformat_minor": 5
}
