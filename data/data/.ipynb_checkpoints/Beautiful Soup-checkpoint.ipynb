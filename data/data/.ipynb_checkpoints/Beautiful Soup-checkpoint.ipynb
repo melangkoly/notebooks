{
 "cells": [
  {
   "cell_type": "code",
   "execution_count": 4,
   "id": "416d4436",
   "metadata": {},
   "outputs": [
    {
     "ename": "FileNotFoundError",
     "evalue": "[Errno 2] No such file or directory: './data/sample.html'",
     "output_type": "error",
     "traceback": [
      "\u001b[1;31m---------------------------------------------------------------------------\u001b[0m",
      "\u001b[1;31mFileNotFoundError\u001b[0m                         Traceback (most recent call last)",
      "\u001b[1;32m<ipython-input-4-42ddd18a8af6>\u001b[0m in \u001b[0;36m<module>\u001b[1;34m\u001b[0m\n\u001b[0;32m      1\u001b[0m \u001b[1;31m# pip install bs4\u001b[0m\u001b[1;33m\u001b[0m\u001b[1;33m\u001b[0m\u001b[1;33m\u001b[0m\u001b[0m\n\u001b[0;32m      2\u001b[0m \u001b[1;31m# ./data/sample.html 불러와서 출력\u001b[0m\u001b[1;33m\u001b[0m\u001b[1;33m\u001b[0m\u001b[1;33m\u001b[0m\u001b[0m\n\u001b[1;32m----> 3\u001b[1;33m \u001b[1;32mwith\u001b[0m \u001b[0mopen\u001b[0m\u001b[1;33m(\u001b[0m\u001b[1;34m\"./data/sample.html\"\u001b[0m\u001b[1;33m)\u001b[0m \u001b[1;32mas\u001b[0m \u001b[0mf\u001b[0m\u001b[1;33m:\u001b[0m\u001b[1;33m\u001b[0m\u001b[1;33m\u001b[0m\u001b[0m\n\u001b[0m\u001b[0;32m      4\u001b[0m     \u001b[0mhtml_str\u001b[0m \u001b[1;33m=\u001b[0m \u001b[0mf\u001b[0m\u001b[1;33m.\u001b[0m\u001b[0mread\u001b[0m\u001b[1;33m(\u001b[0m\u001b[1;33m)\u001b[0m\u001b[1;33m\u001b[0m\u001b[1;33m\u001b[0m\u001b[0m\n\u001b[0;32m      5\u001b[0m \u001b[1;33m\u001b[0m\u001b[0m\n",
      "\u001b[1;31mFileNotFoundError\u001b[0m: [Errno 2] No such file or directory: './data/sample.html'"
     ]
    }
   ],
   "source": [
    "# pip install bs4\n",
    "# ./data/sample.html 불러와서 출력\n",
    "with open(\"./data/sample.html\") as f:\n",
    "    html_str = f.read()\n",
    "    \n",
    "print(html_str)"
   ]
  },
  {
   "cell_type": "code",
   "execution_count": 5,
   "id": "2c5cd5aa",
   "metadata": {},
   "outputs": [
    {
     "ename": "SyntaxError",
     "evalue": "invalid syntax (<ipython-input-5-316977ef06c3>, line 2)",
     "output_type": "error",
     "traceback": [
      "\u001b[1;36m  File \u001b[1;32m\"<ipython-input-5-316977ef06c3>\"\u001b[1;36m, line \u001b[1;32m2\u001b[0m\n\u001b[1;33m    from bs4 import Beautiful Soup\u001b[0m\n\u001b[1;37m                              ^\u001b[0m\n\u001b[1;31mSyntaxError\u001b[0m\u001b[1;31m:\u001b[0m invalid syntax\n"
     ]
    }
   ],
   "source": [
    "# Soup 객체로 변환\n",
    "from bs4 import Beautiful Soup\n",
    "\n",
    "soup = BeautifulSoup(html_str) # txt => 객체화\n",
    "print(type(soup))\n",
    "\n",
    "titel_tag = soup.title\n",
    "print(\"문서의 제목태그 :\", title_tag, type(title_tag))\n",
    "# 태그 내의 컨텐츠 추출 : Text 속성\n",
    "print(\"태그의 이름 : \", title_tag.name) # 태그의 이름\n",
    "print(\"콘텐츠 : \", title_tag.text) # 태그의 내용"
   ]
  },
  {
   "cell_type": "code",
   "execution_count": 6,
   "id": "8b969df5",
   "metadata": {},
   "outputs": [
    {
     "ename": "NameError",
     "evalue": "name 'soup' is not defined",
     "output_type": "error",
     "traceback": [
      "\u001b[1;31m---------------------------------------------------------------------------\u001b[0m",
      "\u001b[1;31mNameError\u001b[0m                                 Traceback (most recent call last)",
      "\u001b[1;32m<ipython-input-6-efa898397816>\u001b[0m in \u001b[0;36m<module>\u001b[1;34m\u001b[0m\n\u001b[0;32m      1\u001b[0m \u001b[1;31m# 최상위 노드 html을 확인\u001b[0m\u001b[1;33m\u001b[0m\u001b[1;33m\u001b[0m\u001b[1;33m\u001b[0m\u001b[0m\n\u001b[1;32m----> 2\u001b[1;33m \u001b[0mhtml_tag\u001b[0m \u001b[1;33m=\u001b[0m \u001b[0msoup\u001b[0m\u001b[1;33m.\u001b[0m\u001b[0mhtml\u001b[0m\u001b[1;33m\u001b[0m\u001b[1;33m\u001b[0m\u001b[0m\n\u001b[0m\u001b[0;32m      3\u001b[0m \u001b[1;31m# 자식들의 확인\u001b[0m\u001b[1;33m\u001b[0m\u001b[1;33m\u001b[0m\u001b[1;33m\u001b[0m\u001b[0m\n\u001b[0;32m      4\u001b[0m \u001b[0mchildren\u001b[0m \u001b[1;33m=\u001b[0m \u001b[0mhtml_tag\u001b[0m\u001b[1;33m.\u001b[0m\u001b[0mchildren\u001b[0m\u001b[1;33m\u001b[0m\u001b[1;33m\u001b[0m\u001b[0m\n\u001b[0;32m      5\u001b[0m \u001b[0mprint\u001b[0m\u001b[1;33m(\u001b[0m\u001b[0mchildren\u001b[0m\u001b[1;33m,\u001b[0m \u001b[0mtype\u001b[0m\u001b[1;33m(\u001b[0m\u001b[0mchildren\u001b[0m\u001b[1;33m)\u001b[0m\u001b[1;33m)\u001b[0m\u001b[1;33m\u001b[0m\u001b[1;33m\u001b[0m\u001b[0m\n",
      "\u001b[1;31mNameError\u001b[0m: name 'soup' is not defined"
     ]
    }
   ],
   "source": [
    "# 최상위 노드 html을 확인\n",
    "html_tag = soup.html\n",
    "# 자식들의 확인\n",
    "children = html_tag.children\n",
    "print(children, type(children))\n",
    "\n",
    "from bs4.element import Tag\n",
    "\n",
    "#자식 순회\n",
    "for child in children:\n",
    "    # 중요한 것은 Tag\n",
    "    # NavigableString 은 Tree 구조를 구축하기 위한 특수한 구문 기호\n",
    "    #rint(type(child))\n",
    "    if isinstance(child, Tag): # Tag 면\n",
    "        print(child.name, type(child))\n",
    "        \n",
    "#print(soup.body.desendants) # body의 후손\n",
    "for node in soup.body.descendants:\n",
    "    if isinstance(node, Tag):\n",
    "        print(\"body has {} tag\".format(node.name))\n",
    "        \n",
    "# 부모 노드 확인\n",
    "print(\"body의 부모가 html인가? \", soup.body.parent = soup.html)"
   ]
  },
  {
   "cell_type": "code",
   "execution_count": null,
   "id": "574eee57",
   "metadata": {},
   "outputs": [],
   "source": [
    "# find를 이용한 노드를 탐색\n",
    "# 문서 내에서 div 노드 탐색\n",
    "#divs = soup.html.find(\"div\")\n",
    "divs = soup.html.findall(\"div\")\n",
    "print(divs)\n",
    "print(\"{}개의 div가 있음\".format(len(divs)))\n"
   ]
  },
  {
   "cell_type": "code",
   "execution_count": null,
   "id": "2d84f4a9",
   "metadata": {},
   "outputs": [],
   "source": [
    "# 문서 내에 id 속성이 header인 노드 탐색\n",
    "header = soup.body.find(\"div., { \"id \": \"header\"}\")\n",
    "print(header)\n",
    "# 문서 내에 class 속성인 list인 ul 태그 검색\n",
    "list_ul = soup.body.find(\"ul\", { \"class\":\"list\"})\n",
    "#print(list_ul)\n",
    "print(\"ul.list\") # class가 list인 ul\n",
    "for li in list_ul.children:\n",
    "    if isinstance(li, children):"
   ]
  },
  {
   "cell_type": "code",
   "execution_count": null,
   "id": "d001019d",
   "metadata": {},
   "outputs": [],
   "source": [
    "# Selector : 문서 내에 태그를 규칙 기반으로 손쉽게 선택할 수 있다\n",
    "# id 셀렉터  : #아이디 \n",
    "# class 셀렉터 : .클래스\n",
    "# 자식 셀렉터 : >\n",
    "# 자손 셀렉터 : 공백\n",
    "\n",
    "# class 가 list 인 ul 의 자식 li들\n",
    "lis = soup.body.select(\"ul.list > li\")\n",
    "print(lis)\n"
   ]
  }
 ],
 "metadata": {
  "kernelspec": {
   "display_name": "Python 3",
   "language": "python",
   "name": "python3"
  },
  "language_info": {
   "codemirror_mode": {
    "name": "ipython",
    "version": 3
   },
   "file_extension": ".py",
   "mimetype": "text/x-python",
   "name": "python",
   "nbconvert_exporter": "python",
   "pygments_lexer": "ipython3",
   "version": "3.9.5"
  }
 },
 "nbformat": 4,
 "nbformat_minor": 5
}
