{
 "cells": [
  {
   "cell_type": "code",
   "execution_count": 1,
   "id": "ed1ac460",
   "metadata": {},
   "outputs": [
    {
     "name": "stdout",
     "output_type": "stream",
     "text": [
      "0    홍길동\n",
      "1     28\n",
      "dtype: object object\n"
     ]
    }
   ],
   "source": [
    "# Series\n",
    "# 단일 형식의 1차원 데이터\n",
    "import pandas as pd\n",
    "s = pd.Series(['홍길동', 28]) # object, int64 -> 데이터 타입이 다를 경우 하나로 통일\n",
    "# object 가 섞여있으면 object로 변환\n",
    "print(s, s.dtype)"
   ]
  },
  {
   "cell_type": "code",
   "execution_count": 2,
   "id": "28cf11d2",
   "metadata": {},
   "outputs": [
    {
     "name": "stdout",
     "output_type": "stream",
     "text": [
      "Name    홍길동\n",
      "Age      28\n",
      "dtype: object\n"
     ]
    }
   ],
   "source": [
    "s2 = pd.Series(['홍길동', 28], index=['Name', 'Age']) # 명시적으로 인덱스를 부여할 때\n",
    "print(s2)"
   ]
  },
  {
   "cell_type": "code",
   "execution_count": 3,
   "id": "784088d0",
   "metadata": {},
   "outputs": [
    {
     "name": "stdout",
     "output_type": "stream",
     "text": [
      "0    홍길동\n",
      "1     28\n",
      "dtype: object\n",
      "s의 인덱스 :  RangeIndex(start=0, stop=2, step=1)\n",
      "이름    홍길동\n",
      "나이     28\n",
      "dtype: object\n"
     ]
    }
   ],
   "source": [
    "# 이미 만들어진 Series에 index를 부여하고자 할 때 .index의 리스트를 변경\n",
    "print(s)\n",
    "print(\"s의 인덱스 : \" , s.index)\n",
    "s.index = ['이름', '나이']\n",
    "print(s)"
   ]
  },
  {
   "cell_type": "code",
   "execution_count": 4,
   "id": "89b42a5b",
   "metadata": {},
   "outputs": [
    {
     "name": "stdout",
     "output_type": "stream",
     "text": [
      "홍길동 28\n",
      "홍길동 28\n",
      "홍길동 28\n"
     ]
    }
   ],
   "source": [
    "# 인덱스에 접근하기\n",
    "print(s['이름'], s['나이']) # 인덱스 접근\n",
    "print(s[0], s[1]) # 순서 정보를 통한 접근\n",
    "print(s[-2], s[-1]) # 역인덱싱 가능"
   ]
  },
  {
   "cell_type": "code",
   "execution_count": 5,
   "id": "d850429f",
   "metadata": {},
   "outputs": [
    {
     "data": {
      "text/plain": [
       "count      5.000000\n",
       "mean      82.000000\n",
       "std       13.509256\n",
       "min       65.000000\n",
       "25%       75.000000\n",
       "50%       80.000000\n",
       "75%       90.000000\n",
       "max      100.000000\n",
       "dtype: float64"
      ]
     },
     "execution_count": 5,
     "metadata": {},
     "output_type": "execute_result"
    }
   ],
   "source": [
    "scores = [80, 75, 90, 100, 65] # 데이터 리스트\n",
    "scores_s = pd.Series(scores) # 시리즈를 생성 \n",
    "# 기초 통계량의 확인\n",
    "scores_s.describe()"
   ]
  },
  {
   "cell_type": "code",
   "execution_count": 6,
   "id": "b6dda78a",
   "metadata": {},
   "outputs": [
    {
     "name": "stdout",
     "output_type": "stream",
     "text": [
      "최솟값, 최댓값:  65 100\n",
      "산술 평균, 중앙값 :  82.0 80.0\n",
      "표준편차 :  13.509256086106296\n",
      "포함 여부 :  0    False\n",
      "1    False\n",
      "2    False\n",
      "3     True\n",
      "4    False\n",
      "dtype: bool\n"
     ]
    }
   ],
   "source": [
    "# 기초 통계량 함수\n",
    "print(\"최솟값, 최댓값: \", scores_s.min(), scores_s.max())\n",
    "print(\"산술 평균, 중앙값 : \", scores_s.mean(), scores_s.median())\n",
    "print(\"표준편차 : \", scores_s.std())\n",
    "print(\"포함 여부 : \", scores_s.isin([100]))"
   ]
  },
  {
   "cell_type": "code",
   "execution_count": 7,
   "id": "dec99667",
   "metadata": {},
   "outputs": [
    {
     "name": "stdout",
     "output_type": "stream",
     "text": [
      "s3 : \n",
      " 0     1\n",
      "1     5\n",
      "2     8\n",
      "3     4\n",
      "4     6\n",
      "5     1\n",
      "6    10\n",
      "dtype: int64\n",
      "s3 * 2 : \n",
      " 0     2\n",
      "1    10\n",
      "2    16\n",
      "3     8\n",
      "4    12\n",
      "5     2\n",
      "6    20\n",
      "dtype: int64\n",
      "s3 + s4\n",
      " 0     2\n",
      "1     7\n",
      "2    11\n",
      "3     8\n",
      "4    11\n",
      "5     7\n",
      "6    17\n",
      "dtype: int64\n"
     ]
    }
   ],
   "source": [
    "# 시리즈의 연산\n",
    "s3 = pd.Series([1, 5, 8, 4, 6, 1, 10])\n",
    "print(\"s3 : \\n\", s3)\n",
    "# 시리즈와 스칼라의 연산 (1차원과 0차원의 연산) (연속 데이터와 단일 데이터의 연산)\n",
    "print(\"s3 * 2 : \\n\", s3 * 2)\n",
    "# 시리즈와 시리즈의 연산\n",
    "s4 = pd.Series([1, 2, 3, 4, 5, 6, 7])\n",
    "print(\"s3 + s4\\n\", s3 + s4)"
   ]
  },
  {
   "cell_type": "code",
   "execution_count": 8,
   "id": "f7dcb3fa",
   "metadata": {},
   "outputs": [
    {
     "name": "stdout",
     "output_type": "stream",
     "text": [
      "s5\n",
      " 0     1\n",
      "1     4\n",
      "2     9\n",
      "3    16\n",
      "4    25\n",
      "5    36\n",
      "6    49\n",
      "dtype: int64\n"
     ]
    }
   ],
   "source": [
    "# 시리즈의 각 요소(항목)에 같음 함수를 일괄 적용 : apply\n",
    "s4\n",
    "s5 = s4.apply(lambda x: x **2)\n",
    "print(\"s5\\n\", s5)"
   ]
  },
  {
   "cell_type": "code",
   "execution_count": 9,
   "id": "51436e21",
   "metadata": {},
   "outputs": [
    {
     "data": {
      "text/html": [
       "<div>\n",
       "<style scoped>\n",
       "    .dataframe tbody tr th:only-of-type {\n",
       "        vertical-align: middle;\n",
       "    }\n",
       "\n",
       "    .dataframe tbody tr th {\n",
       "        vertical-align: top;\n",
       "    }\n",
       "\n",
       "    .dataframe thead th {\n",
       "        text-align: right;\n",
       "    }\n",
       "</style>\n",
       "<table border=\"1\" class=\"dataframe\">\n",
       "  <thead>\n",
       "    <tr style=\"text-align: right;\">\n",
       "      <th></th>\n",
       "      <th>KOR</th>\n",
       "      <th>ENG</th>\n",
       "      <th>MATH</th>\n",
       "    </tr>\n",
       "  </thead>\n",
       "  <tbody>\n",
       "    <tr>\n",
       "      <th>A</th>\n",
       "      <td>80</td>\n",
       "      <td>90</td>\n",
       "      <td>80</td>\n",
       "    </tr>\n",
       "    <tr>\n",
       "      <th>B</th>\n",
       "      <td>90</td>\n",
       "      <td>80</td>\n",
       "      <td>90</td>\n",
       "    </tr>\n",
       "    <tr>\n",
       "      <th>C</th>\n",
       "      <td>75</td>\n",
       "      <td>70</td>\n",
       "      <td>85</td>\n",
       "    </tr>\n",
       "  </tbody>\n",
       "</table>\n",
       "</div>"
      ],
      "text/plain": [
       "   KOR  ENG  MATH\n",
       "A   80   90    80\n",
       "B   90   80    90\n",
       "C   75   70    85"
      ]
     },
     "execution_count": 9,
     "metadata": {},
     "output_type": "execute_result"
    }
   ],
   "source": [
    "# 데이터 프레임\n",
    "# 여러 개의 Series가 연결된 2차원 테이블 형태의 데이터\n",
    "# 생성 : dict로 데이터를 입력\n",
    "scores_df = pd.DataFrame({\n",
    "    \"KOR\": [80, 90, 75],\n",
    "    \"ENG\": [90, 80, 70],\n",
    "    \"MATH\": [80, 90, 85]\n",
    "}, index = ['A', 'B', 'C'])\n",
    "scores_df"
   ]
  },
  {
   "cell_type": "code",
   "execution_count": 10,
   "id": "ebe5564f",
   "metadata": {},
   "outputs": [
    {
     "data": {
      "text/html": [
       "<div>\n",
       "<style scoped>\n",
       "    .dataframe tbody tr th:only-of-type {\n",
       "        vertical-align: middle;\n",
       "    }\n",
       "\n",
       "    .dataframe tbody tr th {\n",
       "        vertical-align: top;\n",
       "    }\n",
       "\n",
       "    .dataframe thead th {\n",
       "        text-align: right;\n",
       "    }\n",
       "</style>\n",
       "<table border=\"1\" class=\"dataframe\">\n",
       "  <thead>\n",
       "    <tr style=\"text-align: right;\">\n",
       "      <th></th>\n",
       "      <th>KOR</th>\n",
       "      <th>ENG</th>\n",
       "      <th>MATH</th>\n",
       "    </tr>\n",
       "  </thead>\n",
       "  <tbody>\n",
       "    <tr>\n",
       "      <th>홍길동</th>\n",
       "      <td>80</td>\n",
       "      <td>90</td>\n",
       "      <td>80</td>\n",
       "    </tr>\n",
       "    <tr>\n",
       "      <th>임꺽정</th>\n",
       "      <td>90</td>\n",
       "      <td>80</td>\n",
       "      <td>90</td>\n",
       "    </tr>\n",
       "    <tr>\n",
       "      <th>장길산</th>\n",
       "      <td>75</td>\n",
       "      <td>70</td>\n",
       "      <td>85</td>\n",
       "    </tr>\n",
       "  </tbody>\n",
       "</table>\n",
       "</div>"
      ],
      "text/plain": [
       "     KOR  ENG  MATH\n",
       "홍길동   80   90    80\n",
       "임꺽정   90   80    90\n",
       "장길산   75   70    85"
      ]
     },
     "execution_count": 10,
     "metadata": {},
     "output_type": "execute_result"
    }
   ],
   "source": [
    "# 이미 생성된 데이터 프레임에 Index 부여\n",
    "scores_df.index = ['홍길동', '임꺽정', '장길산']\n",
    "scores_df"
   ]
  },
  {
   "cell_type": "code",
   "execution_count": 13,
   "id": "1f574ab1",
   "metadata": {},
   "outputs": [
    {
     "data": {
      "text/html": [
       "<div>\n",
       "<style scoped>\n",
       "    .dataframe tbody tr th:only-of-type {\n",
       "        vertical-align: middle;\n",
       "    }\n",
       "\n",
       "    .dataframe tbody tr th {\n",
       "        vertical-align: top;\n",
       "    }\n",
       "\n",
       "    .dataframe thead th {\n",
       "        text-align: right;\n",
       "    }\n",
       "</style>\n",
       "<table border=\"1\" class=\"dataframe\">\n",
       "  <thead>\n",
       "    <tr style=\"text-align: right;\">\n",
       "      <th></th>\n",
       "      <th>KOR</th>\n",
       "      <th>ENG</th>\n",
       "      <th>MATH</th>\n",
       "      <th>Total</th>\n",
       "      <th>TOTAL</th>\n",
       "    </tr>\n",
       "  </thead>\n",
       "  <tbody>\n",
       "    <tr>\n",
       "      <th>홍길동</th>\n",
       "      <td>80</td>\n",
       "      <td>90</td>\n",
       "      <td>80</td>\n",
       "      <td>250</td>\n",
       "      <td>250</td>\n",
       "    </tr>\n",
       "    <tr>\n",
       "      <th>임꺽정</th>\n",
       "      <td>90</td>\n",
       "      <td>80</td>\n",
       "      <td>90</td>\n",
       "      <td>260</td>\n",
       "      <td>260</td>\n",
       "    </tr>\n",
       "    <tr>\n",
       "      <th>장길산</th>\n",
       "      <td>75</td>\n",
       "      <td>70</td>\n",
       "      <td>85</td>\n",
       "      <td>230</td>\n",
       "      <td>230</td>\n",
       "    </tr>\n",
       "  </tbody>\n",
       "</table>\n",
       "</div>"
      ],
      "text/plain": [
       "     KOR  ENG  MATH  Total  TOTAL\n",
       "홍길동   80   90    80    250    250\n",
       "임꺽정   90   80    90    260    260\n",
       "장길산   75   70    85    230    230"
      ]
     },
     "execution_count": 13,
     "metadata": {},
     "output_type": "execute_result"
    }
   ],
   "source": [
    "# 변수의 파생 : 이미 있는 변수(컬럼)을 기반으로 새 변수(컬럼)를 생성\n",
    "# 모든 학생의 국어, 영어, 수학 점수 총점을 변수로 생성\n",
    "scores_df['TOTAL'] = scores_df['KOR'] + scores_df['ENG'] + scores_df['MATH']\n",
    "scores_df"
   ]
  },
  {
   "cell_type": "code",
   "execution_count": 14,
   "id": "883cbd66",
   "metadata": {},
   "outputs": [
    {
     "data": {
      "text/html": [
       "<div>\n",
       "<style scoped>\n",
       "    .dataframe tbody tr th:only-of-type {\n",
       "        vertical-align: middle;\n",
       "    }\n",
       "\n",
       "    .dataframe tbody tr th {\n",
       "        vertical-align: top;\n",
       "    }\n",
       "\n",
       "    .dataframe thead th {\n",
       "        text-align: right;\n",
       "    }\n",
       "</style>\n",
       "<table border=\"1\" class=\"dataframe\">\n",
       "  <thead>\n",
       "    <tr style=\"text-align: right;\">\n",
       "      <th></th>\n",
       "      <th>KOR</th>\n",
       "      <th>ENG</th>\n",
       "      <th>MATH</th>\n",
       "      <th>Total</th>\n",
       "      <th>TOTAL</th>\n",
       "      <th>AVERAGE</th>\n",
       "    </tr>\n",
       "  </thead>\n",
       "  <tbody>\n",
       "    <tr>\n",
       "      <th>홍길동</th>\n",
       "      <td>80</td>\n",
       "      <td>90</td>\n",
       "      <td>80</td>\n",
       "      <td>250</td>\n",
       "      <td>250</td>\n",
       "      <td>83.333333</td>\n",
       "    </tr>\n",
       "    <tr>\n",
       "      <th>임꺽정</th>\n",
       "      <td>90</td>\n",
       "      <td>80</td>\n",
       "      <td>90</td>\n",
       "      <td>260</td>\n",
       "      <td>260</td>\n",
       "      <td>86.666667</td>\n",
       "    </tr>\n",
       "    <tr>\n",
       "      <th>장길산</th>\n",
       "      <td>75</td>\n",
       "      <td>70</td>\n",
       "      <td>85</td>\n",
       "      <td>230</td>\n",
       "      <td>230</td>\n",
       "      <td>76.666667</td>\n",
       "    </tr>\n",
       "  </tbody>\n",
       "</table>\n",
       "</div>"
      ],
      "text/plain": [
       "     KOR  ENG  MATH  Total  TOTAL    AVERAGE\n",
       "홍길동   80   90    80    250    250  83.333333\n",
       "임꺽정   90   80    90    260    260  86.666667\n",
       "장길산   75   70    85    230    230  76.666667"
      ]
     },
     "execution_count": 14,
     "metadata": {},
     "output_type": "execute_result"
    }
   ],
   "source": [
    "# AVERAGE 변수 파생\n",
    "scores_df['AVERAGE'] = scores_df['TOTAL'] / 3\n",
    "scores_df"
   ]
  },
  {
   "cell_type": "code",
   "execution_count": 15,
   "id": "d22b7a39",
   "metadata": {},
   "outputs": [
    {
     "data": {
      "text/html": [
       "<div>\n",
       "<style scoped>\n",
       "    .dataframe tbody tr th:only-of-type {\n",
       "        vertical-align: middle;\n",
       "    }\n",
       "\n",
       "    .dataframe tbody tr th {\n",
       "        vertical-align: top;\n",
       "    }\n",
       "\n",
       "    .dataframe thead th {\n",
       "        text-align: right;\n",
       "    }\n",
       "</style>\n",
       "<table border=\"1\" class=\"dataframe\">\n",
       "  <thead>\n",
       "    <tr style=\"text-align: right;\">\n",
       "      <th></th>\n",
       "      <th>KOR</th>\n",
       "      <th>ENG</th>\n",
       "      <th>MATH</th>\n",
       "      <th>Total</th>\n",
       "      <th>TOTAL</th>\n",
       "      <th>AVERAGE</th>\n",
       "    </tr>\n",
       "  </thead>\n",
       "  <tbody>\n",
       "    <tr>\n",
       "      <th>홍길동</th>\n",
       "      <td>80</td>\n",
       "      <td>90</td>\n",
       "      <td>80</td>\n",
       "      <td>250</td>\n",
       "      <td>250</td>\n",
       "      <td>83.333333</td>\n",
       "    </tr>\n",
       "    <tr>\n",
       "      <th>장길산</th>\n",
       "      <td>75</td>\n",
       "      <td>70</td>\n",
       "      <td>85</td>\n",
       "      <td>230</td>\n",
       "      <td>230</td>\n",
       "      <td>76.666667</td>\n",
       "    </tr>\n",
       "  </tbody>\n",
       "</table>\n",
       "</div>"
      ],
      "text/plain": [
       "     KOR  ENG  MATH  Total  TOTAL    AVERAGE\n",
       "홍길동   80   90    80    250    250  83.333333\n",
       "장길산   75   70    85    230    230  76.666667"
      ]
     },
     "execution_count": 15,
     "metadata": {},
     "output_type": "execute_result"
    }
   ],
   "source": [
    "scores_df[[True, False, True]]"
   ]
  },
  {
   "cell_type": "code",
   "execution_count": 16,
   "id": "4351f7c5",
   "metadata": {},
   "outputs": [
    {
     "data": {
      "text/plain": [
       "홍길동     True\n",
       "임꺽정     True\n",
       "장길산    False\n",
       "Name: AVERAGE, dtype: bool"
      ]
     },
     "execution_count": 16,
     "metadata": {},
     "output_type": "execute_result"
    }
   ],
   "source": [
    "cond = scores_df[\"AVERAGE\"] >= 80\n",
    "cond"
   ]
  },
  {
   "cell_type": "code",
   "execution_count": null,
   "id": "54bd4df0",
   "metadata": {},
   "outputs": [],
   "source": []
  }
 ],
 "metadata": {
  "kernelspec": {
   "display_name": "Python 3",
   "language": "python",
   "name": "python3"
  },
  "language_info": {
   "codemirror_mode": {
    "name": "ipython",
    "version": 3
   },
   "file_extension": ".py",
   "mimetype": "text/x-python",
   "name": "python",
   "nbconvert_exporter": "python",
   "pygments_lexer": "ipython3",
   "version": "3.9.5"
  }
 },
 "nbformat": 4,
 "nbformat_minor": 5
}
